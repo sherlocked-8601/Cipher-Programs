{
 "cells": [
  {
   "cell_type": "code",
   "execution_count": 16,
   "id": "652d87f9",
   "metadata": {},
   "outputs": [
    {
     "name": "stdout",
     "output_type": "stream",
     "text": [
      "Enter the text to be Encrypted/Decrypted: Arvind\n",
      "Enter Key Value: 10\n",
      "Do you want to perform Encryption or Decryption? Decrypt\n",
      "QHLYDT\n"
     ]
    }
   ],
   "source": [
    "def encrypt(key, message):\n",
    "    message = message.upper()\n",
    "    alpha = \"ABCDEFGHIJKLMNOPQRSTUVWXYZ\"\n",
    "    result = \"\"\n",
    "\n",
    "    for letter in message:\n",
    "        if letter in alpha:\n",
    "            letter_index = (alpha.find(letter) + key) % len(alpha)\n",
    "\n",
    "            result = result + alpha[letter_index]\n",
    "        else:\n",
    "            result = result + letter\n",
    "\n",
    "    return result\n",
    "\n",
    "def decrypt(key, message):\n",
    "    message = message.upper()\n",
    "    alpha = \"ABCDEFGHIJKLMNOPQRSTUVWXYZ\"\n",
    "    result = \"\"\n",
    "\n",
    "    for letter in message:\n",
    "        if letter in alpha:\n",
    "            letter_index = (alpha.find(letter) - key) % len(alpha)\n",
    "\n",
    "            result = result + alpha[letter_index]\n",
    "        else:\n",
    "            result = result + letter\n",
    "\n",
    "    return result\n",
    "\n",
    "def main():\n",
    "    word = input(\"Enter the text to be Encrypted/Decrypted: \")\n",
    "    k = int(input(\"Enter Key Value: \"))\n",
    "    choice = input(\"Do you want to perform Encryption or Decryption? \")\n",
    "    if(choice == \"Encrypt\" or choice == \"Encryption\"):\n",
    "        \n",
    "        encrypted = encrypt(k,word)\n",
    "        print(encrypted) \n",
    "    elif(choice == \"Decrypt\" or choice == \"Decryption\"):\n",
    "        \n",
    "        decrypted = decrypt(k,word)\n",
    "        print(decrypted)\n",
    "\n",
    "if __name__ == \"__main__\":\n",
    "    main()"
   ]
  },
  {
   "cell_type": "code",
   "execution_count": null,
   "id": "76884400",
   "metadata": {},
   "outputs": [],
   "source": []
  }
 ],
 "metadata": {
  "kernelspec": {
   "display_name": "Python 3 (ipykernel)",
   "language": "python",
   "name": "python3"
  },
  "language_info": {
   "codemirror_mode": {
    "name": "ipython",
    "version": 3
   },
   "file_extension": ".py",
   "mimetype": "text/x-python",
   "name": "python",
   "nbconvert_exporter": "python",
   "pygments_lexer": "ipython3",
   "version": "3.9.7"
  }
 },
 "nbformat": 4,
 "nbformat_minor": 5
}
