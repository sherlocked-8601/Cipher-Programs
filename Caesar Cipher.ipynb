{
 "cells": [
  {
   "cell_type": "code",
   "execution_count": 10,
   "id": "034c239b",
   "metadata": {},
   "outputs": [
    {
     "name": "stdout",
     "output_type": "stream",
     "text": [
      "Enter the Text to be encrypted: Julius Caesar\n",
      "Enter the Shift Value: 3\n",
      "Plain txt : Julius Caesar\n",
      "Shift pattern : 3\n",
      "Cipher: MxolxvqFdhvdu\n"
     ]
    }
   ],
   "source": [
    "def encyption(txt, s):  \n",
    "    result = \"\"   \n",
    "    for i in range(len(txt)):  \n",
    "        char = txt[i]  \n",
    "  \n",
    "        if (char.isupper()):  \n",
    "            result += chr((ord(char) + (s-1) - 64) % 26 + 65)   \n",
    "        else:  \n",
    "            result += chr((ord(char) + (s-1) - 96) % 26 + 97)  \n",
    "    return result    \n",
    "txt = input(\"Enter the Text to be encrypted: \") \n",
    "s = int(input(\"Enter the Shift Value: \"))  \n",
    "  \n",
    "print(\"Plain txt : \" + txt)  \n",
    "print(\"Shift pattern : \" + str(s))  \n",
    "print(\"Cipher: \" + encyption(txt, s))  "
   ]
  },
  {
   "cell_type": "code",
   "execution_count": null,
   "id": "205f6825",
   "metadata": {},
   "outputs": [],
   "source": []
  }
 ],
 "metadata": {
  "kernelspec": {
   "display_name": "Python 3 (ipykernel)",
   "language": "python",
   "name": "python3"
  },
  "language_info": {
   "codemirror_mode": {
    "name": "ipython",
    "version": 3
   },
   "file_extension": ".py",
   "mimetype": "text/x-python",
   "name": "python",
   "nbconvert_exporter": "python",
   "pygments_lexer": "ipython3",
   "version": "3.9.7"
  }
 },
 "nbformat": 4,
 "nbformat_minor": 5
}
