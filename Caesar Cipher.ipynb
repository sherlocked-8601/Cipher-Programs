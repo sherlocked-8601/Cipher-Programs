{
 "cells": [
  {
   "cell_type": "code",
   "execution_count": 14,
   "id": "3b8b534f",
   "metadata": {},
   "outputs": [
    {
     "name": "stdout",
     "output_type": "stream",
     "text": [
      "Enter the Text to be encrypted: JULIUS CAESAR\n",
      "Enter the Shift Value: 2\n",
      "Plain txt : JULIUS CAESAR\n",
      "Shift pattern : 2\n",
      "Cipher: LWNKWUECGUCT\n"
     ]
    }
   ],
   "source": [
    "def encyption(txt, s):  \n",
    "    result = \"\"   \n",
    "    for i in range(len(txt)):  \n",
    "        char = txt[i]  \n",
    "  \n",
    "        if (char.isupper()):  \n",
    "            result += chr((ord(char) + (s-1) - 64) % 26 + 65)\n",
    "        elif (char == \" \"):\n",
    "            pass\n",
    "        else:  \n",
    "            result += chr((ord(char) + (s-1) - 96) % 26 + 97)  \n",
    "    return result    \n",
    "txt = input(\"Enter the Text to be encrypted: \") \n",
    "s = int(input(\"Enter the Shift Value: \"))  \n",
    "  \n",
    "print(\"Plain txt : \" + txt)  \n",
    "print(\"Shift pattern : \" + str(s))  \n",
    "print(\"Cipher: \" + encyption(txt, s))  "
   ]
  }
 ],
 "metadata": {
  "kernelspec": {
   "display_name": "Python 3 (ipykernel)",
   "language": "python",
   "name": "python3"
  },
  "language_info": {
   "codemirror_mode": {
    "name": "ipython",
    "version": 3
   },
   "file_extension": ".py",
   "mimetype": "text/x-python",
   "name": "python",
   "nbconvert_exporter": "python",
   "pygments_lexer": "ipython3",
   "version": "3.9.7"
  }
 },
 "nbformat": 4,
 "nbformat_minor": 5
}
